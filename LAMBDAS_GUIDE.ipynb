{
 "cells": [
  {
   "cell_type": "code",
   "execution_count": 1,
   "metadata": {},
   "outputs": [],
   "source": [
    "def maths(x):\n",
    "    new_number = (x/2)*6 +11\n",
    "    return new_number "
   ]
  },
  {
   "cell_type": "code",
   "execution_count": 2,
   "metadata": {},
   "outputs": [
    {
     "data": {
      "text/plain": [
       "32.0"
      ]
     },
     "execution_count": 2,
     "metadata": {},
     "output_type": "execute_result"
    }
   ],
   "source": [
    "maths(7)"
   ]
  },
  {
   "cell_type": "code",
   "execution_count": 3,
   "metadata": {},
   "outputs": [],
   "source": [
    "maths2 = lambda x: (x/2)*6 + 11"
   ]
  },
  {
   "cell_type": "code",
   "execution_count": 4,
   "metadata": {},
   "outputs": [
    {
     "data": {
      "text/plain": [
       "32.0"
      ]
     },
     "execution_count": 4,
     "metadata": {},
     "output_type": "execute_result"
    }
   ],
   "source": [
    "maths2(7)"
   ]
  },
  {
   "cell_type": "code",
   "execution_count": 5,
   "metadata": {},
   "outputs": [
    {
     "data": {
      "text/plain": [
       "function"
      ]
     },
     "execution_count": 5,
     "metadata": {},
     "output_type": "execute_result"
    }
   ],
   "source": [
    "type(maths)"
   ]
  },
  {
   "cell_type": "code",
   "execution_count": 6,
   "metadata": {},
   "outputs": [
    {
     "data": {
      "text/plain": [
       "function"
      ]
     },
     "execution_count": 6,
     "metadata": {},
     "output_type": "execute_result"
    }
   ],
   "source": [
    "type(maths2)"
   ]
  },
  {
   "cell_type": "code",
   "execution_count": 7,
   "metadata": {},
   "outputs": [],
   "source": [
    "x = \"this string\" "
   ]
  },
  {
   "cell_type": "code",
   "execution_count": 14,
   "metadata": {},
   "outputs": [
    {
     "data": {
      "text/plain": [
       "[{0: 0},\n",
       " {0: 1},\n",
       " {0: 2},\n",
       " {0: 3},\n",
       " {0: 4},\n",
       " {0: 5},\n",
       " {0: 6},\n",
       " {0: 7},\n",
       " {0: 8},\n",
       " {0: 9},\n",
       " {1: 0},\n",
       " {1: 1},\n",
       " {1: 2},\n",
       " {1: 3},\n",
       " {1: 4},\n",
       " {1: 5},\n",
       " {1: 6},\n",
       " {1: 7},\n",
       " {1: 8},\n",
       " {1: 9},\n",
       " {2: 0},\n",
       " {2: 1},\n",
       " {2: 2},\n",
       " {2: 3},\n",
       " {2: 4},\n",
       " {2: 5},\n",
       " {2: 6},\n",
       " {2: 7},\n",
       " {2: 8},\n",
       " {2: 9},\n",
       " {3: 0},\n",
       " {3: 1},\n",
       " {3: 2},\n",
       " {3: 3},\n",
       " {3: 4},\n",
       " {3: 5},\n",
       " {3: 6},\n",
       " {3: 7},\n",
       " {3: 8},\n",
       " {3: 9},\n",
       " {4: 0},\n",
       " {4: 1},\n",
       " {4: 2},\n",
       " {4: 3},\n",
       " {4: 4},\n",
       " {4: 5},\n",
       " {4: 6},\n",
       " {4: 7},\n",
       " {4: 8},\n",
       " {4: 9},\n",
       " {5: 0},\n",
       " {5: 1},\n",
       " {5: 2},\n",
       " {5: 3},\n",
       " {5: 4},\n",
       " {5: 5},\n",
       " {5: 6},\n",
       " {5: 7},\n",
       " {5: 8},\n",
       " {5: 9},\n",
       " {6: 0},\n",
       " {6: 1},\n",
       " {6: 2},\n",
       " {6: 3},\n",
       " {6: 4},\n",
       " {6: 5},\n",
       " {6: 6},\n",
       " {6: 7},\n",
       " {6: 8},\n",
       " {6: 9},\n",
       " {7: 0},\n",
       " {7: 1},\n",
       " {7: 2},\n",
       " {7: 3},\n",
       " {7: 4},\n",
       " {7: 5},\n",
       " {7: 6},\n",
       " {7: 7},\n",
       " {7: 8},\n",
       " {7: 9},\n",
       " {8: 0},\n",
       " {8: 1},\n",
       " {8: 2},\n",
       " {8: 3},\n",
       " {8: 4},\n",
       " {8: 5},\n",
       " {8: 6},\n",
       " {8: 7},\n",
       " {8: 8},\n",
       " {8: 9},\n",
       " {9: 0},\n",
       " {9: 1},\n",
       " {9: 2},\n",
       " {9: 3},\n",
       " {9: 4},\n",
       " {9: 5},\n",
       " {9: 6},\n",
       " {9: 7},\n",
       " {9: 8},\n",
       " {9: 9}]"
      ]
     },
     "execution_count": 14,
     "metadata": {},
     "output_type": "execute_result"
    }
   ],
   "source": [
    "things = []\n",
    "for x in range(10):\n",
    "    for y in range(10):\n",
    "        more = {}\n",
    "        more[x] =y\n",
    "        things.append(more)\n",
    "things "
   ]
  },
  {
   "cell_type": "code",
   "execution_count": 15,
   "metadata": {},
   "outputs": [],
   "source": [
    "import pandas as pd\n",
    "this = pd.DataFrame(things)"
   ]
  },
  {
   "cell_type": "code",
   "execution_count": 16,
   "metadata": {},
   "outputs": [
    {
     "data": {
      "text/plain": [
       "0     11.0\n",
       "1     14.0\n",
       "2     17.0\n",
       "3     20.0\n",
       "4     23.0\n",
       "5     26.0\n",
       "6     29.0\n",
       "7     32.0\n",
       "8     35.0\n",
       "9     38.0\n",
       "10     NaN\n",
       "11     NaN\n",
       "12     NaN\n",
       "13     NaN\n",
       "14     NaN\n",
       "15     NaN\n",
       "16     NaN\n",
       "17     NaN\n",
       "18     NaN\n",
       "19     NaN\n",
       "20     NaN\n",
       "21     NaN\n",
       "22     NaN\n",
       "23     NaN\n",
       "24     NaN\n",
       "25     NaN\n",
       "26     NaN\n",
       "27     NaN\n",
       "28     NaN\n",
       "29     NaN\n",
       "      ... \n",
       "70     NaN\n",
       "71     NaN\n",
       "72     NaN\n",
       "73     NaN\n",
       "74     NaN\n",
       "75     NaN\n",
       "76     NaN\n",
       "77     NaN\n",
       "78     NaN\n",
       "79     NaN\n",
       "80     NaN\n",
       "81     NaN\n",
       "82     NaN\n",
       "83     NaN\n",
       "84     NaN\n",
       "85     NaN\n",
       "86     NaN\n",
       "87     NaN\n",
       "88     NaN\n",
       "89     NaN\n",
       "90     NaN\n",
       "91     NaN\n",
       "92     NaN\n",
       "93     NaN\n",
       "94     NaN\n",
       "95     NaN\n",
       "96     NaN\n",
       "97     NaN\n",
       "98     NaN\n",
       "99     NaN\n",
       "Name: 0, Length: 100, dtype: float64"
      ]
     },
     "execution_count": 16,
     "metadata": {},
     "output_type": "execute_result"
    }
   ],
   "source": [
    "this[0].apply(maths)"
   ]
  },
  {
   "cell_type": "code",
   "execution_count": 17,
   "metadata": {},
   "outputs": [
    {
     "name": "stdout",
     "output_type": "stream",
     "text": [
      "[(0, 0), (0, 1), (0, 2), (0, 3), (0, 4), (0, 5), (0, 6), (0, 7), (0, 8), (0, 9), (1, 0), (1, 1), (1, 2), (1, 3), (1, 4), (1, 5), (1, 6), (1, 7), (1, 8), (1, 9), (2, 0), (2, 1), (2, 2), (2, 3), (2, 4), (2, 5), (2, 6), (2, 7), (2, 8), (2, 9), (3, 0), (3, 1), (3, 2), (3, 3), (3, 4), (3, 5), (3, 6), (3, 7), (3, 8), (3, 9), (4, 0), (4, 1), (4, 2), (4, 3), (4, 4), (4, 5), (4, 6), (4, 7), (4, 8), (4, 9), (5, 0), (5, 1), (5, 2), (5, 3), (5, 4), (5, 5), (5, 6), (5, 7), (5, 8), (5, 9), (6, 0), (6, 1), (6, 2), (6, 3), (6, 4), (6, 5), (6, 6), (6, 7), (6, 8), (6, 9), (7, 0), (7, 1), (7, 2), (7, 3), (7, 4), (7, 5), (7, 6), (7, 7), (7, 8), (7, 9), (8, 0), (8, 1), (8, 2), (8, 3), (8, 4), (8, 5), (8, 6), (8, 7), (8, 8), (8, 9), (9, 0), (9, 1), (9, 2), (9, 3), (9, 4), (9, 5), (9, 6), (9, 7), (9, 8), (9, 9)]\n",
      "[(0, 0), (1, 0), (2, 0), (3, 0), (4, 0), (5, 0), (6, 0), (7, 0), (8, 0), (9, 0), (0, 1), (1, 1), (2, 1), (3, 1), (4, 1), (5, 1), (6, 1), (7, 1), (8, 1), (9, 1), (0, 2), (1, 2), (2, 2), (3, 2), (4, 2), (5, 2), (6, 2), (7, 2), (8, 2), (9, 2), (0, 3), (1, 3), (2, 3), (3, 3), (4, 3), (5, 3), (6, 3), (7, 3), (8, 3), (9, 3), (0, 4), (1, 4), (2, 4), (3, 4), (4, 4), (5, 4), (6, 4), (7, 4), (8, 4), (9, 4), (0, 5), (1, 5), (2, 5), (3, 5), (4, 5), (5, 5), (6, 5), (7, 5), (8, 5), (9, 5), (0, 6), (1, 6), (2, 6), (3, 6), (4, 6), (5, 6), (6, 6), (7, 6), (8, 6), (9, 6), (0, 7), (1, 7), (2, 7), (3, 7), (4, 7), (5, 7), (6, 7), (7, 7), (8, 7), (9, 7), (0, 8), (1, 8), (2, 8), (3, 8), (4, 8), (5, 8), (6, 8), (7, 8), (8, 8), (9, 8), (0, 9), (1, 9), (2, 9), (3, 9), (4, 9), (5, 9), (6, 9), (7, 9), (8, 9), (9, 9)]\n"
     ]
    }
   ],
   "source": [
    "stuff = []\n",
    "for x in range(10):\n",
    "    for y in range(10):\n",
    "        stuff.append((x,y))\n",
    "print(sorted(stuff))\n",
    "print(sorted(stuff, key = lambda i: i[1]))"
   ]
  },
  {
   "cell_type": "code",
   "execution_count": 18,
   "metadata": {},
   "outputs": [
    {
     "data": {
      "text/plain": [
       "0     0.0\n",
       "1     1.0\n",
       "2     2.0\n",
       "3     3.0\n",
       "4     4.0\n",
       "5     5.0\n",
       "6     6.0\n",
       "7     7.0\n",
       "8     8.0\n",
       "9     9.0\n",
       "10    NaN\n",
       "11    NaN\n",
       "12    NaN\n",
       "13    NaN\n",
       "14    NaN\n",
       "15    NaN\n",
       "16    NaN\n",
       "17    NaN\n",
       "18    NaN\n",
       "19    NaN\n",
       "20    NaN\n",
       "21    NaN\n",
       "22    NaN\n",
       "23    NaN\n",
       "24    NaN\n",
       "25    NaN\n",
       "26    NaN\n",
       "27    NaN\n",
       "28    NaN\n",
       "29    NaN\n",
       "     ... \n",
       "70    NaN\n",
       "71    NaN\n",
       "72    NaN\n",
       "73    NaN\n",
       "74    NaN\n",
       "75    NaN\n",
       "76    NaN\n",
       "77    NaN\n",
       "78    NaN\n",
       "79    NaN\n",
       "80    NaN\n",
       "81    NaN\n",
       "82    NaN\n",
       "83    NaN\n",
       "84    NaN\n",
       "85    NaN\n",
       "86    NaN\n",
       "87    NaN\n",
       "88    NaN\n",
       "89    NaN\n",
       "90    NaN\n",
       "91    NaN\n",
       "92    NaN\n",
       "93    NaN\n",
       "94    NaN\n",
       "95    NaN\n",
       "96    NaN\n",
       "97    NaN\n",
       "98    NaN\n",
       "99    NaN\n",
       "Name: 0, Length: 100, dtype: float64"
      ]
     },
     "execution_count": 18,
     "metadata": {},
     "output_type": "execute_result"
    }
   ],
   "source": [
    "this[0]"
   ]
  },
  {
   "cell_type": "code",
   "execution_count": null,
   "metadata": {},
   "outputs": [],
   "source": []
  }
 ],
 "metadata": {
  "kernelspec": {
   "display_name": "dscience",
   "language": "python",
   "name": "dscience"
  },
  "language_info": {
   "codemirror_mode": {
    "name": "ipython",
    "version": 3
   },
   "file_extension": ".py",
   "mimetype": "text/x-python",
   "name": "python",
   "nbconvert_exporter": "python",
   "pygments_lexer": "ipython3",
   "version": "3.6.8"
  }
 },
 "nbformat": 4,
 "nbformat_minor": 2
}
